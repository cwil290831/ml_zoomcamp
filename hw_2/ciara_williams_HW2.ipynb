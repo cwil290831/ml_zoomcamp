{
 "cells": [
  {
   "cell_type": "code",
   "execution_count": 147,
   "metadata": {},
   "outputs": [],
   "source": [
    "# import libraries for data manipulation\n",
    "import numpy as np\n",
    "import pandas as pd\n",
    "\n",
    "# import libraries for data visualization\n",
    "import matplotlib.pyplot as plt\n",
    "import seaborn as sns\n",
    "\n",
    "# disable pop_up display of graphs to display them in notebook.\n",
    "%matplotlib inline"
   ]
  },
  {
   "cell_type": "code",
   "execution_count": 148,
   "metadata": {},
   "outputs": [
    {
     "name": "stdout",
     "output_type": "stream",
     "text": [
      "--2025-09-29 15:42:56--  https://raw.githubusercontent.com/alexeygrigorev/datasets/master/car_fuel_efficiency.csv\n",
      "Resolving raw.githubusercontent.com (raw.githubusercontent.com)... 2606:50c0:8002::154, 2606:50c0:8000::154, 2606:50c0:8001::154, ...\n",
      "Connecting to raw.githubusercontent.com (raw.githubusercontent.com)|2606:50c0:8002::154|:443... connected.\n",
      "HTTP request sent, awaiting response... 200 OK\n",
      "Length: 874188 (854K) [text/plain]\n",
      "Saving to: ‘car_fuel_efficiency.csv.2’\n",
      "\n",
      "car_fuel_efficiency 100%[===================>] 853.70K  --.-KB/s    in 0.07s   \n",
      "\n",
      "2025-09-29 15:42:56 (11.2 MB/s) - ‘car_fuel_efficiency.csv.2’ saved [874188/874188]\n",
      "\n"
     ]
    }
   ],
   "source": [
    "data = \"https://raw.githubusercontent.com/alexeygrigorev/datasets/master/car_fuel_efficiency.csv\"\n",
    "!wget $data"
   ]
  },
  {
   "cell_type": "code",
   "execution_count": 149,
   "metadata": {},
   "outputs": [],
   "source": [
    "df = pd.read_csv(\"car_fuel_efficiency.csv\")"
   ]
  },
  {
   "cell_type": "code",
   "execution_count": 150,
   "metadata": {},
   "outputs": [
    {
     "data": {
      "text/plain": [
       "(9704, 11)"
      ]
     },
     "execution_count": 150,
     "metadata": {},
     "output_type": "execute_result"
    }
   ],
   "source": [
    "df.shape"
   ]
  },
  {
   "cell_type": "markdown",
   "metadata": {},
   "source": [
    "## Data Preparation"
   ]
  },
  {
   "cell_type": "code",
   "execution_count": 151,
   "metadata": {},
   "outputs": [
    {
     "name": "stdout",
     "output_type": "stream",
     "text": [
      "<class 'pandas.core.frame.DataFrame'>\n",
      "RangeIndex: 9704 entries, 0 to 9703\n",
      "Data columns (total 5 columns):\n",
      " #   Column               Non-Null Count  Dtype  \n",
      "---  ------               --------------  -----  \n",
      " 0   engine_displacement  9704 non-null   int64  \n",
      " 1   horsepower           8996 non-null   float64\n",
      " 2   vehicle_weight       9704 non-null   float64\n",
      " 3   model_year           9704 non-null   int64  \n",
      " 4   fuel_efficiency_mpg  9704 non-null   float64\n",
      "dtypes: float64(3), int64(2)\n",
      "memory usage: 379.2 KB\n"
     ]
    }
   ],
   "source": [
    "cols = ['engine_displacement', 'horsepower', 'vehicle_weight', 'model_year', 'fuel_efficiency_mpg']\n",
    "df_lr = df[cols].copy()\n",
    "\n",
    "df_lr.info()"
   ]
  },
  {
   "cell_type": "markdown",
   "metadata": {},
   "source": [
    "## EDA"
   ]
  },
  {
   "cell_type": "markdown",
   "metadata": {},
   "source": [
    "### Question 0\n",
    "Look at the `fuel_efficiency_mpg` variable. Does it have a long tail? \n",
    "- No, it looks ~ normally distributed."
   ]
  },
  {
   "cell_type": "code",
   "execution_count": 152,
   "metadata": {},
   "outputs": [
    {
     "data": {
      "text/plain": [
       "<Axes: title={'center': 'Fuel Efficiency in MPG'}, xlabel='fuel_efficiency_mpg', ylabel='frequency'>"
      ]
     },
     "execution_count": 152,
     "metadata": {},
     "output_type": "execute_result"
    },
    {
     "data": {
      "image/png": "[encoded data removed]",
      "text/plain": [
       "<Figure size 640x480 with 1 Axes>"
      ]
     },
     "metadata": {},
     "output_type": "display_data"
    }
   ],
   "source": [
    "plt.title('Fuel Efficiency in MPG')\n",
    "plt.ylabel('frequency')\n",
    "sns.histplot(data=df_lr, x='fuel_efficiency_mpg')"
   ]
  },
  {
   "cell_type": "markdown",
   "metadata": {},
   "source": [
    "### Question 1\n",
    "There's one column with missing values. What is it?\n",
    "- Horsepower"
   ]
  },
  {
   "cell_type": "code",
   "execution_count": 153,
   "metadata": {},
   "outputs": [
    {
     "data": {
      "text/plain": [
       "engine_displacement      0\n",
       "horsepower             708\n",
       "vehicle_weight           0\n",
       "model_year               0\n",
       "fuel_efficiency_mpg      0\n",
       "dtype: int64"
      ]
     },
     "execution_count": 153,
     "metadata": {},
     "output_type": "execute_result"
    }
   ],
   "source": [
    "df_lr.isna().sum()"
   ]
  },
  {
   "cell_type": "markdown",
   "metadata": {},
   "source": [
    "### Question 2\n",
    "What's the median (50% percentile) for variable `'horsepower'`?\n",
    "- 149"
   ]
  },
  {
   "cell_type": "code",
   "execution_count": 154,
   "metadata": {},
   "outputs": [
    {
     "data": {
      "text/plain": [
       "count    8996.000000\n",
       "mean      149.657292\n",
       "std        29.879555\n",
       "min        37.000000\n",
       "25%       130.000000\n",
       "50%       149.000000\n",
       "75%       170.000000\n",
       "max       271.000000\n",
       "Name: horsepower, dtype: float64"
      ]
     },
     "execution_count": 154,
     "metadata": {},
     "output_type": "execute_result"
    }
   ],
   "source": [
    "df_lr['horsepower'].describe()"
   ]
  },
  {
   "cell_type": "markdown",
   "metadata": {},
   "source": [
    "## Prepare and split the dataset"
   ]
  },
  {
   "cell_type": "code",
   "execution_count": 174,
   "metadata": {},
   "outputs": [],
   "source": [
    "def split(df, seed=42):\n",
    "    # set split sizes\n",
    "    n = len(df)\n",
    "    n_val = int(n * 0.2)\n",
    "    n_test = int(n * 0.2)\n",
    "    n_train = n - (n_val + n_test)\n",
    "\n",
    "    # generate a sequence of numbers that represents our indices\n",
    "    idx = np.arange(n)\n",
    "    # shuffle the indices\n",
    "    np.random.seed(seed) # ensures same shuffle everytime\n",
    "    np.random.shuffle(idx)\n",
    "\n",
    "    # split the data\n",
    "    df_train = df_lr.iloc[idx[n_train:]]\n",
    "    df_val = df_lr.iloc[idx[n_train:(n_val + n_train)]]\n",
    "    df_test = df_lr.iloc[idx[(n_val + n_train):]]\n",
    "\n",
    "    # reset the indices\n",
    "    df_train = df_train.reset_index(drop=True)\n",
    "    df_val = df_val.reset_index(drop=True)\n",
    "    df_test = df_test.reset_index(drop=True)\n",
    "\n",
    "    return df_train, df_test, df_val"
   ]
  },
  {
   "cell_type": "code",
   "execution_count": 156,
   "metadata": {},
   "outputs": [],
   "source": [
    "def get_target(train, test, val, y):\n",
    "    # get the target vector\n",
    "    y_train = train[y].values\n",
    "    y_test = test[y].values\n",
    "    y_val = val[y].values\n",
    "\n",
    "    return y_train, y_test, y_val\n"
   ]
  },
  {
   "cell_type": "markdown",
   "metadata": {},
   "source": [
    "## Train and Validation Methods"
   ]
  },
  {
   "cell_type": "code",
   "execution_count": 157,
   "metadata": {},
   "outputs": [],
   "source": [
    "def train_linear_reg(X, y):\n",
    "    '''Train linear regression to get bias term and weight vector.'''\n",
    "    # add bias term col to X\n",
    "    ones = np.ones(X.shape[0])\n",
    "    X = np.column_stack([ones, X])\n",
    "\n",
    "    # calculate weight vector (normal equation)\n",
    "    XTX = X.T.dot(X) # gram matrix\n",
    "    XTX_inverse = np.linalg.inv(XTX) # inverse of the gram matrix\n",
    "    w_full = XTX_inverse.dot(X.T).dot(y) # weight vector of X\n",
    "\n",
    "    # get bias term, and remove from w\n",
    "    w_0 = w_full[0]\n",
    "    w = w_full[1:]\n",
    "\n",
    "    return w_0, w"
   ]
  },
  {
   "cell_type": "code",
   "execution_count": 158,
   "metadata": {},
   "outputs": [],
   "source": [
    "def rmse(y, y_pred):\n",
    "\t'''Calculate Root Mean Squared Error for Model Validation.'''\n",
    "\terror = y - y_pred\n",
    "\tsqr_error = error ** 2\n",
    "\tmse = sqr_error.mean()\n",
    "\t\n",
    "\treturn np.sqrt(mse)\n",
    "    "
   ]
  },
  {
   "cell_type": "markdown",
   "metadata": {},
   "source": [
    "## Feature Engineering"
   ]
  },
  {
   "cell_type": "markdown",
   "metadata": {},
   "source": [
    "### Question 3\n",
    "\n",
    "* We need to deal with missing values for the column from Q1.\n",
    "* We have two options: fill it with 0 or with the mean of this variable.\n",
    "* Try both options. For each, train a linear regression model without regularization using the code from the lessons.\n",
    "* For computing the mean, use the training only!\n",
    "* Use the validation dataset to evaluate the models and compare the RMSE of each option.\n",
    "* Round the RMSE scores to 2 decimal digits using `round(score, 2)`\n",
    "\n",
    "Which option gives better RMSE?\n",
    "* with mean"
   ]
  },
  {
   "cell_type": "code",
   "execution_count": 175,
   "metadata": {},
   "outputs": [],
   "source": [
    "df_train, df_test, df_val = split(df_lr)\n",
    "y_train, y_test, y_val = get_target(df_train, df_test, df_val, y='fuel_efficiency_mpg')\n",
    "\n",
    "# remove target vector from dataset\n",
    "del df_train['fuel_efficiency_mpg']\n",
    "del df_test['fuel_efficiency_mpg']\n",
    "del df_val['fuel_efficiency_mpg']\n",
    "# Handle missing vals in horsepower\n",
    "# training\n",
    "train_zero = df_train.fillna({'horsepower': 0})\n",
    "train_mean = df_train.fillna({'horsepower': df_train['horsepower'].mean()})\n",
    "\n",
    "#validation\n",
    "val_zero = df_val.fillna({'horsepower': 0})\n",
    "val_mean = df_val.fillna({'horsepower': df_train['horsepower'].mean()})"
   ]
  },
  {
   "cell_type": "code",
   "execution_count": 176,
   "metadata": {},
   "outputs": [
    {
     "name": "stdout",
     "output_type": "stream",
     "text": [
      "Train RMSE w/ 0 in missing vals: 0.52\n",
      "Validation RMSE w/ 0 in missing vals: 0.52\n"
     ]
    }
   ],
   "source": [
    "# missing filled with zero\n",
    "zero_w_0, zero_w = train_linear_reg(train_zero, y_train)\n",
    "zero_y_pred = zero_w_0 + train_zero.dot(zero_w)\n",
    "\n",
    "zero_val_y_pred = zero_w_0 + val_zero.dot(zero_w)\n",
    "\n",
    "print(f\"Train RMSE w/ 0 in missing vals: {rmse(y_train, zero_y_pred):.2f}\")\n",
    "print(f\"Validation RMSE w/ 0 in missing vals: {rmse(y_val, zero_val_y_pred):.2f}\")"
   ]
  },
  {
   "cell_type": "code",
   "execution_count": 161,
   "metadata": {},
   "outputs": [
    {
     "name": "stdout",
     "output_type": "stream",
     "text": [
      "Train RMSE w/ mean in missing vals: 0.46\n",
      "Validation RMSE w/ mean in missing vals: 0.46\n"
     ]
    }
   ],
   "source": [
    "# missing filled with mean\n",
    "mean_w_0, mean_w = train_linear_reg(train_mean, y_train)\n",
    "mean_y_pred = mean_w_0 + train_mean.dot(mean_w)\n",
    "\n",
    "mean_val_y_pred = mean_w_0 + val_mean.dot(mean_w)\n",
    "\n",
    "print(f\"Train RMSE w/ mean in missing vals: {rmse(y_train, mean_y_pred):.2f}\")\n",
    "print(f\"Validation RMSE w/ mean in missing vals: {rmse(y_val, mean_val_y_pred):.2f}\")"
   ]
  },
  {
   "cell_type": "markdown",
   "metadata": {},
   "source": [
    "## Model Improvement "
   ]
  },
  {
   "cell_type": "markdown",
   "metadata": {},
   "source": [
    "### Question 4\n",
    "\n",
    "* Now let's train a regularized linear regression.\n",
    "* For this question, fill the NAs with 0. \n",
    "* Try different values of `r` from this list: `[0, 0.01, 0.1, 1, 5, 10, 100]`.\n",
    "* Use RMSE to evaluate the model on the validation dataset.\n",
    "* Round the RMSE scores to 2 decimal digits.\n",
    "* Which `r` gives the best RMSE?\n",
    "\n",
    "If there are multiple options, select the smallest `r`.\n",
    "* r_value: 0\n",
    "* w_0: 25.76\n",
    "* w: [ 3.60622916e-05, 3.69826771e-03, -5.01362264e-03, 1.86542140e-03]\n",
    "* train RMSE: 0.52\n",
    "* validation RMSE: 0.52"
   ]
  },
  {
   "cell_type": "code",
   "execution_count": 162,
   "metadata": {},
   "outputs": [],
   "source": [
    "def train_linear_regression_reg(X, y, r=0.0):\n",
    "    '''Train linear regression to get bias term and weight vector w/ Regularization'''\n",
    "    # add bias term col to X\n",
    "    ones = np.ones(X.shape[0])\n",
    "    X = np.column_stack([ones, X])\n",
    "\n",
    "    # calculate weight vector (normal equation)\n",
    "    XTX = X.T.dot(X) # gram matrix\n",
    "    # apply regularization\n",
    "    reg = r * np.eye(XTX.shape[0])\n",
    "    XTX = XTX + reg\n",
    "    \n",
    "    XTX_inverse = np.linalg.inv(XTX) # inverse of the gram matrix\n",
    "    w_full = XTX_inverse.dot(X.T).dot(y) # weight vector of X\n",
    "\n",
    "    # get bias term, and remove from w\n",
    "    w_0 = w_full[0]\n",
    "    w = w_full[1:]\n",
    "\n",
    "    return w_0, w"
   ]
  },
  {
   "cell_type": "code",
   "execution_count": 163,
   "metadata": {},
   "outputs": [
    {
     "name": "stdout",
     "output_type": "stream",
     "text": [
      "-----------------------\n",
      "r_value: 0\n",
      "w_0: 25.76\n",
      "w: [ 3.60622916e-05  3.69826771e-03 -5.01362264e-03  1.86542140e-03]\n",
      "train RMSE: 0.52\n",
      "validation RMSE: 0.52\n",
      "-----------------------\n",
      "r_value: 0.01\n",
      "w_0: 20.84\n",
      "w: [ 3.00503812e-05  3.70093014e-03 -5.01301968e-03  4.31327480e-03]\n",
      "train RMSE: 0.52\n",
      "validation RMSE: 0.52\n",
      "-----------------------\n",
      "r_value: 0.1\n",
      "w_0: 7.66\n",
      "w: [ 1.39629632e-05  3.70805460e-03 -5.01140619e-03  1.08635496e-02]\n",
      "train RMSE: 0.52\n",
      "validation RMSE: 0.52\n",
      "-----------------------\n",
      "r_value: 1\n",
      "w_0: 1.05\n",
      "w: [ 5.88887923e-06  3.71163008e-03 -5.01059637e-03  1.41511087e-02]\n",
      "train RMSE: 0.52\n",
      "validation RMSE: 0.52\n",
      "-----------------------\n",
      "r_value: 5\n",
      "w_0: 0.22\n",
      "w: [ 4.87667649e-06  3.71207741e-03 -5.01049467e-03  1.45634973e-02]\n",
      "train RMSE: 0.52\n",
      "validation RMSE: 0.52\n",
      "-----------------------\n",
      "r_value: 10\n",
      "w_0: 0.11\n",
      "w: [ 4.74604913e-06  3.71213410e-03 -5.01048136e-03  1.46170005e-02]\n",
      "train RMSE: 0.52\n",
      "validation RMSE: 0.52\n",
      "-----------------------\n",
      "r_value: 100\n",
      "w_0: 0.01\n",
      "w: [ 4.64081439e-06  3.71215975e-03 -5.01046688e-03  1.46655372e-02]\n",
      "train RMSE: 0.52\n",
      "validation RMSE: 0.52\n"
     ]
    }
   ],
   "source": [
    "r_values = [0, 0.01, 0.1, 1, 5, 10, 100]\n",
    "\n",
    "for r in r_values:\n",
    "    w_0, w = train_linear_regression_reg(train_zero, y_train, r=r)\n",
    "    y_pred = w_0 + train_zero.dot(w)\n",
    "    \n",
    "    y_pred_val = w_0 + val_zero.dot(w)\n",
    "\n",
    "    print(\"-----------------------\")\n",
    "    print(f\"r_value: {r}\\nw_0: {w_0:.2f}\\nw: {w}\")\n",
    "    print(f\"train RMSE: {rmse(y_train, y_pred):.2f}\")\n",
    "    print(f\"validation RMSE: {rmse(y_val, y_pred_val):.2f}\")\n",
    "\n",
    "    "
   ]
  },
  {
   "cell_type": "markdown",
   "metadata": {},
   "source": [
    "## Random Seed Testing"
   ]
  },
  {
   "cell_type": "markdown",
   "metadata": {},
   "source": [
    "### Question 5 \n",
    "\n",
    "* We used seed 42 for splitting the data. Let's find out how selecting the seed influences our score.\n",
    "* Try different seed values: `[0, 1, 2, 3, 4, 5, 6, 7, 8, 9]`.\n",
    "* For each seed, do the train/validation/test split with 60%/20%/20% distribution.\n",
    "* Fill the missing values with 0 and train a model without regularization.\n",
    "* For each seed, evaluate the model on the validation dataset and collect the RMSE scores. \n",
    "\n",
    "What's the standard deviation of all the scores? To compute the standard deviation, use `np.std`. Round the result to 3 decimal digits (`round(std, 3)`)\n",
    "* my_answer: $0.007$\n",
    "* selected_answer: $0.006$"
   ]
  },
  {
   "cell_type": "code",
   "execution_count": 167,
   "metadata": {},
   "outputs": [
    {
     "name": "stdout",
     "output_type": "stream",
     "text": [
      "seed: 0, RMSE: 0.52\n",
      "seed: 1, RMSE: 0.52\n",
      "seed: 2, RMSE: 0.52\n",
      "seed: 3, RMSE: 0.52\n",
      "seed: 4, RMSE: 0.51\n",
      "seed: 5, RMSE: 0.53\n",
      "seed: 6, RMSE: 0.53\n",
      "seed: 7, RMSE: 0.51\n",
      "seed: 8, RMSE: 0.51\n",
      "seed: 9, RMSE: 0.51\n"
     ]
    },
    {
     "data": {
      "text/plain": [
       "np.float64(0.007)"
      ]
     },
     "execution_count": 167,
     "metadata": {},
     "output_type": "execute_result"
    }
   ],
   "source": [
    "seeds = [0, 1, 2, 3, 4, 5, 6, 7, 8, 9]\n",
    "RMSEs = []\n",
    "\n",
    "for s in seeds:\n",
    "    df_train, df_test, df_val = split(df_lr, seed=s)\n",
    "    y_train, y_test, y_val = get_target(df_train, df_test, df_val, y='fuel_efficiency_mpg')\n",
    "\n",
    "    # remove target vector from dataset\n",
    "    del df_train['fuel_efficiency_mpg']\n",
    "    del df_test['fuel_efficiency_mpg']\n",
    "    del df_val['fuel_efficiency_mpg']\n",
    "\n",
    "    # Handle missing vals in horsepower\n",
    "    train_zero = df_train.fillna({'horsepower': 0})\n",
    "    w_0, w = train_linear_reg(train_zero, y_train)\n",
    "\n",
    "    val_zero = df_val.fillna({'horsepower': 0})\n",
    "    y_pred_val = w_0 + val_zero.dot(w)\n",
    "\n",
    "    val_RMSE = rmse(y_val, y_pred_val)\n",
    "\n",
    "    print(f\"seed: {s}, RMSE: {val_RMSE:.2f}\")\n",
    "\n",
    "    RMSEs.append(val_RMSE)\n",
    "\n",
    "RMSE_std = np.std(RMSEs)\n",
    "\n",
    "round(RMSE_std, 3)\n",
    "    "
   ]
  },
  {
   "cell_type": "markdown",
   "metadata": {},
   "source": [
    "### Question 6\n",
    "\n",
    "* Split the dataset like previously, use seed 9.\n",
    "* Combine train and validation datasets.\n",
    "* Fill the missing values with 0 and train a model with `r=0.001`. \n",
    "\n",
    "What's the RMSE on the test dataset?\n",
    "* 0.515"
   ]
  },
  {
   "cell_type": "code",
   "execution_count": 181,
   "metadata": {},
   "outputs": [
    {
     "name": "stdout",
     "output_type": "stream",
     "text": [
      "RMSE: 0.51\n"
     ]
    }
   ],
   "source": [
    "df_train, df_test, df_val = split(df_lr, seed=9)\n",
    "y_train, y_test, y_val = get_target(df_train, df_test, df_val, y='fuel_efficiency_mpg')\n",
    "\n",
    "# remove target vector from dataset\n",
    "del df_train['fuel_efficiency_mpg']\n",
    "del df_test['fuel_efficiency_mpg']\n",
    "del df_val['fuel_efficiency_mpg']\n",
    "\n",
    "# Handle missing vals in horsepower\n",
    "train_zero = df_train.fillna({'horsepower': 0})\n",
    "val_zero = df_val.fillna({'horsepower': 0})\n",
    "zero = pd.concat([train_zero, val_zero], axis=0)\n",
    "y = pd.concat([pd.Series(y_train), pd.Series(y_val)])\n",
    "\n",
    "w_0, w = train_linear_regression_reg(zero, y, r=0.001)\n",
    "\n",
    "y_pred = w_0 + zero.dot(w)\n",
    "\n",
    "print(f\"RMSE: {rmse(y, y_pred):.2f}\")\n",
    "\n"
   ]
  }
 ],
 "metadata": {
  "kernelspec": {
   "display_name": "ml_zoomcamp",
   "language": "python",
   "name": "python3"
  },
  "language_info": {
   "codemirror_mode": {
    "name": "ipython",
    "version": 3
   },
   "file_extension": ".py",
   "mimetype": "text/x-python",
   "name": "python",
   "nbconvert_exporter": "python",
   "pygments_lexer": "ipython3",
   "version": "3.13.5"
  }
 },
 "nbformat": 4,
 "nbformat_minor": 2
}
